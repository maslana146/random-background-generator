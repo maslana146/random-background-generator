{
 "cells": [
  {
   "cell_type": "code",
   "execution_count": null,
   "metadata": {},
   "outputs": [],
   "source": [
    "import cv2\n",
    "import matplotlib.pyplot as plt\n",
    "import random\n",
    "import numpy as np\n",
    "import os"
   ]
  },
  {
   "cell_type": "code",
   "execution_count": null,
   "metadata": {},
   "outputs": [],
   "source": [
    "im = cv2.imread(\"logos/cogni_solo.png\", cv2.IMREAD_UNCHANGED)\n",
    "plt.imshow(cv2.cvtColor(im, cv2.COLOR_BGRA2RGBA))"
   ]
  },
  {
   "cell_type": "code",
   "execution_count": null,
   "metadata": {},
   "outputs": [],
   "source": [
    "def get_random_cutout(im):\n",
    "    y = random.randint(0, im.shape[0]//15)\n",
    "    x = random.randint(0, im.shape[1]//15)\n",
    "    width = im.shape[1]-x-random.randint(-(im.shape[1]-y)//15, (im.shape[1]-x)//15)\n",
    "    height = im.shape[0]-y-random.randint(-(im.shape[0]-y)//15, (im.shape[0]-y)//15)\n",
    "    cutout = im[y:y+height, x:x+width]\n",
    "    scale = min(random.random()+0.2,1)\n",
    "    cutout = cv2.resize(cutout, tuple(int(scale*x) for x in im.shape)[:-1][-1::-1])\n",
    "    if random.random()>0.8:\n",
    "        blur_rate = max(1,random.randrange(min(cutout.shape[0],cutout.shape[1])//15))\n",
    "        cutout = cv2.blur(cutout,(blur_rate,blur_rate))\n",
    "    return cutout"
   ]
  },
  {
   "cell_type": "code",
   "execution_count": null,
   "metadata": {},
   "outputs": [],
   "source": [
    "plt.imshow(cv2.cvtColor(get_random_cutout(im), cv2.COLOR_BGRA2RGBA))"
   ]
  },
  {
   "cell_type": "code",
   "execution_count": null,
   "metadata": {},
   "outputs": [],
   "source": [
    "def get_random_solid_background(im):\n",
    "    random_color = [random.randrange(256),random.randrange(256),random.randrange(256)]\n",
    "    return np.full((im.shape[0]+random.randrange(-im.shape[0]//4,im.shape[0]//3),im.shape[1]+random.randrange(-im.shape[1]//4,im.shape[1]//3),3), random_color)"
   ]
  },
  {
   "cell_type": "code",
   "execution_count": null,
   "metadata": {},
   "outputs": [],
   "source": [
    "def overlay_transparent(background, overlay, x, y):\n",
    "\n",
    "    background_width = background.shape[1]\n",
    "    background_height = background.shape[0]\n",
    "\n",
    "    if x >= background_width or y >= background_height:\n",
    "        return background\n",
    "\n",
    "    h, w = overlay.shape[0], overlay.shape[1]\n",
    "\n",
    "    if x + w > background_width:\n",
    "        w = background_width - x\n",
    "        overlay = overlay[:, :w]\n",
    "\n",
    "    if y + h > background_height:\n",
    "        h = background_height - y\n",
    "        overlay = overlay[:h]\n",
    "\n",
    "    if overlay.shape[2] < 4:\n",
    "        overlay = np.concatenate(\n",
    "            [\n",
    "                overlay,\n",
    "                np.ones((overlay.shape[0], overlay.shape[1], 1), dtype = overlay.dtype) * 255\n",
    "            ],\n",
    "            axis = 2,\n",
    "        )\n",
    "\n",
    "    overlay_image = overlay[..., :3]\n",
    "    mask = overlay[..., 3:] / 255.0\n",
    "\n",
    "    background[y:y+h, x:x+w] = (1.0 - mask) * background[y:y+h, x:x+w] + mask * overlay_image\n",
    "    full_mask = np.full(background.shape, 0.)\n",
    "    full_mask[y:y+h, x:x+w] = mask\n",
    "    full_mask*=255\n",
    "    return background, full_mask"
   ]
  },
  {
   "cell_type": "code",
   "execution_count": null,
   "metadata": {},
   "outputs": [],
   "source": [
    "for i in range(2500):\n",
    "    cutout = get_random_cutout(im)\n",
    "    background = get_random_solid_background(cutout)\n",
    "    x = random.randrange(max(1,background.shape[1]-cutout.shape[1]))\n",
    "    y = random.randrange(max(1,background.shape[0]-cutout.shape[0]))\n",
    "    added_image, mask = overlay_transparent(background,cutout,x, y)\n",
    "    added_image = added_image.astype('uint8')\n",
    "    \n",
    "    plt.imshow(cv2.cvtColor(added_image, cv2.COLOR_BGR2RGB))\n",
    "    plt.show()\n",
    "\n",
    "    cv2.imwrite(f'output_solo/mask/{i}.png', mask)\n",
    "    cv2.imwrite(f'output_solo/full/{i}.jpg', added_image)"
   ]
  },
  {
   "cell_type": "code",
   "execution_count": null,
   "metadata": {},
   "outputs": [],
   "source": [
    "def get_random_photo_background(cutout, photo):\n",
    "    scale = max(cutout.shape[0]/photo.shape[0], cutout.shape[1]/photo.shape[1])\n",
    "    if scale>1:\n",
    "        photo = cv2.resize(photo,(photo.shape[0]*scale, photo.shape[1]*scale))\n",
    "    return photo[0:cutout.shape[0]+random.randrange(-cutout.shape[0]//5,cutout.shape[0]//3), 0:cutout.shape[1]+random.randrange(-cutout.shape[1]//5,cutout.shape[1]//3)]"
   ]
  },
  {
   "cell_type": "code",
   "execution_count": null,
   "metadata": {},
   "outputs": [],
   "source": [
    "random_bgs = os.listdir('random')\n",
    "for bg_path in random_bgs:\n",
    "    try:\n",
    "        cutout = get_random_cutout(im)\n",
    "        bg = cv2.imread('random/'+bg_path)\n",
    "        background = get_random_photo_background(cutout, bg)\n",
    "        added_image, mask = overlay_transparent(background,cutout,random.randrange(max(1,background.shape[1]-cutout.shape[1])),random.randrange(max(1,background.shape[0]-cutout.shape[0])))\n",
    "\n",
    "        plt.imshow(cv2.cvtColor(added_image, cv2.COLOR_BGR2RGB))\n",
    "        plt.show()\n",
    "        cv2.imwrite(f'output_solo/mask/{bg_path}.png', mask)\n",
    "        cv2.imwrite(f'output_solo/full/{bg_path}.jpg', added_image)\n",
    "    except Exception as ex:\n",
    "        print(ex)"
   ]
  }
 ],
 "metadata": {
  "kernelspec": {
   "display_name": "Python 3",
   "language": "python",
   "name": "python3"
  },
  "language_info": {
   "codemirror_mode": {
    "name": "ipython",
    "version": 3
   },
   "file_extension": ".py",
   "mimetype": "text/x-python",
   "name": "python",
   "nbconvert_exporter": "python",
   "pygments_lexer": "ipython3",
   "version": "3.7.4"
  }
 },
 "nbformat": 4,
 "nbformat_minor": 4
}
